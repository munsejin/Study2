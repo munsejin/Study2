{
  "nbformat": 4,
  "nbformat_minor": 0,
  "metadata": {
    "colab": {
      "name": "DL005_CNN.ipynb",
      "provenance": [],
      "collapsed_sections": [],
      "include_colab_link": true
    },
    "kernelspec": {
      "name": "python3",
      "display_name": "Python 3"
    }
  },
  "cells": [
    {
      "cell_type": "markdown",
      "metadata": {
        "id": "view-in-github",
        "colab_type": "text"
      },
      "source": [
        "<a href=\"https://colab.research.google.com/github/munsejin/Study2/blob/master/DL005_CNN.ipynb\" target=\"_parent\"><img src=\"https://colab.research.google.com/assets/colab-badge.svg\" alt=\"Open In Colab\"/></a>"
      ]
    },
    {
      "cell_type": "markdown",
      "metadata": {
        "id": "CqhdvHTGYoy6",
        "colab_type": "text"
      },
      "source": [
        "# MNIST 손글씨 데이터 셋을 ANN에 적용하기\n",
        "\n",
        "## 데이터 로드\n",
        "\n",
        "- MNIST 데이터는 케라스를 이용해 불러올 수 있음\n",
        "\n",
        "- 불러온 이미지 데이터를 X로, 레이블 (0~9)을 Y_class에 저장\n",
        "- 학습 데이터 : X_train, Y_train\n",
        "- 테스트 데이터 : X_test, Y_test\n"
      ]
    },
    {
      "cell_type": "code",
      "metadata": {
        "id": "eZsqNIK5YfXK",
        "colab_type": "code",
        "colab": {
          "base_uri": "https://localhost:8080/",
          "height": 52
        },
        "outputId": "bc2c9c90-d102-4583-cff6-f0497b8f5bee"
      },
      "source": [
        "from keras.datasets import mnist\n",
        "import tensorflow as tf\n",
        "import numpy as np\n",
        "\n",
        "seed = 0\n",
        "np.random.seed(seed)\n",
        "tf.set_random_seed(seed)\n",
        "\n",
        "(X_train, Y_train), (X_test, Y_test) = mnist.load_data()\n",
        "\n",
        "print(\"학습셋 이미지 수 : %d 개\" %(X_train.shape[0]))\n",
        "print(\"테스트셋 이미지 수 : %d 개\" %(X_test.shape[0]))"
      ],
      "execution_count": null,
      "outputs": [
        {
          "output_type": "stream",
          "text": [
            "학습셋 이미지 수 : 60000 개\n",
            "테스트셋 이미지 수 : 10000 개\n"
          ],
          "name": "stdout"
        }
      ]
    },
    {
      "cell_type": "markdown",
      "metadata": {
        "id": "CM7WTp8ZZMjM",
        "colab_type": "text"
      },
      "source": [
        "## 데이터 분석\n",
        "\n",
        "### 0번째 훈련 셋 데이터 출력 (이미지)\n",
        "\n",
        "- cmap=‘Greys’ : 흑백으로 출력"
      ]
    },
    {
      "cell_type": "code",
      "metadata": {
        "id": "gChhiMBDZMQD",
        "colab_type": "code",
        "colab": {
          "base_uri": "https://localhost:8080/",
          "height": 269
        },
        "outputId": "e0d8eb75-3807-4993-ae0f-e38aba9e7206"
      },
      "source": [
        "import matplotlib.pyplot as plt\n",
        "\n",
        "plt.imshow(X_train[0], cmap='Greys')\n",
        "plt.show()"
      ],
      "execution_count": null,
      "outputs": [
        {
          "output_type": "display_data",
          "data": {
            "image/png": "[encoded data removed]",
            "text/plain": [
              "<Figure size 432x288 with 1 Axes>"
            ]
          },
          "metadata": {
            "tags": []
          }
        }
      ]
    },
    {
      "cell_type": "markdown",
      "metadata": {
        "id": "bUJKkvqSZvEz",
        "colab_type": "text"
      },
      "source": [
        "### 0번째 훈련 셋 데이터의 픽셀 값 출력\n",
        "\n",
        "- 각 숫자 이미지는 28x28 크기의 총 784개의 픽셀로 구성\n",
        "- 픽셀을 밝기 정도에 따라 0(흰색)~255(검정색)까지의 숫자로 구성되어 있음."
      ]
    },
    {
      "cell_type": "code",
      "metadata": {
        "id": "ol_F_PynZqjK",
        "colab_type": "code",
        "colab": {
          "base_uri": "https://localhost:8080/",
          "height": 530
        },
        "outputId": "4ee86a0d-dbb4-4b4c-86a5-835c07e79eec"
      },
      "source": [
        "import sys\n",
        "for x in X_train[0]:\n",
        "    for i in x:\n",
        "        sys.stdout.write('%d\\t' %i)\n",
        "    sys.stdout.write('\\n')"
      ],
      "execution_count": null,
      "outputs": [
        {
          "output_type": "stream",
          "text": [
            "0\t0\t0\t0\t0\t0\t0\t0\t0\t0\t0\t0\t0\t0\t0\t0\t0\t0\t0\t0\t0\t0\t0\t0\t0\t0\t0\t0\t\n",
            "0\t0\t0\t0\t0\t0\t0\t0\t0\t0\t0\t0\t0\t0\t0\t0\t0\t0\t0\t0\t0\t0\t0\t0\t0\t0\t0\t0\t\n",
            "0\t0\t0\t0\t0\t0\t0\t0\t0\t0\t0\t0\t0\t0\t0\t0\t0\t0\t0\t0\t0\t0\t0\t0\t0\t0\t0\t0\t\n",
            "0\t0\t0\t0\t0\t0\t0\t0\t0\t0\t0\t0\t0\t0\t0\t0\t0\t0\t0\t0\t0\t0\t0\t0\t0\t0\t0\t0\t\n",
            "0\t0\t0\t0\t0\t0\t0\t0\t0\t0\t0\t0\t0\t0\t0\t0\t0\t0\t0\t0\t0\t0\t0\t0\t0\t0\t0\t0\t\n",
            "0\t0\t0\t0\t0\t0\t0\t0\t0\t0\t0\t0\t3\t18\t18\t18\t126\t136\t175\t26\t166\t255\t247\t127\t0\t0\t0\t0\t\n",
            "0\t0\t0\t0\t0\t0\t0\t0\t30\t36\t94\t154\t170\t253\t253\t253\t253\t253\t225\t172\t253\t242\t195\t64\t0\t0\t0\t0\t\n",
            "0\t0\t0\t0\t0\t0\t0\t49\t238\t253\t253\t253\t253\t253\t253\t253\t253\t251\t93\t82\t82\t56\t39\t0\t0\t0\t0\t0\t\n",
            "0\t0\t0\t0\t0\t0\t0\t18\t219\t253\t253\t253\t253\t253\t198\t182\t247\t241\t0\t0\t0\t0\t0\t0\t0\t0\t0\t0\t\n",
            "0\t0\t0\t0\t0\t0\t0\t0\t80\t156\t107\t253\t253\t205\t11\t0\t43\t154\t0\t0\t0\t0\t0\t0\t0\t0\t0\t0\t\n",
            "0\t0\t0\t0\t0\t0\t0\t0\t0\t14\t1\t154\t253\t90\t0\t0\t0\t0\t0\t0\t0\t0\t0\t0\t0\t0\t0\t0\t\n",
            "0\t0\t0\t0\t0\t0\t0\t0\t0\t0\t0\t139\t253\t190\t2\t0\t0\t0\t0\t0\t0\t0\t0\t0\t0\t0\t0\t0\t\n",
            "0\t0\t0\t0\t0\t0\t0\t0\t0\t0\t0\t11\t190\t253\t70\t0\t0\t0\t0\t0\t0\t0\t0\t0\t0\t0\t0\t0\t\n",
            "0\t0\t0\t0\t0\t0\t0\t0\t0\t0\t0\t0\t35\t241\t225\t160\t108\t1\t0\t0\t0\t0\t0\t0\t0\t0\t0\t0\t\n",
            "0\t0\t0\t0\t0\t0\t0\t0\t0\t0\t0\t0\t0\t81\t240\t253\t253\t119\t25\t0\t0\t0\t0\t0\t0\t0\t0\t0\t\n",
            "0\t0\t0\t0\t0\t0\t0\t0\t0\t0\t0\t0\t0\t0\t45\t186\t253\t253\t150\t27\t0\t0\t0\t0\t0\t0\t0\t0\t\n",
            "0\t0\t0\t0\t0\t0\t0\t0\t0\t0\t0\t0\t0\t0\t0\t16\t93\t252\t253\t187\t0\t0\t0\t0\t0\t0\t0\t0\t\n",
            "0\t0\t0\t0\t0\t0\t0\t0\t0\t0\t0\t0\t0\t0\t0\t0\t0\t249\t253\t249\t64\t0\t0\t0\t0\t0\t0\t0\t\n",
            "0\t0\t0\t0\t0\t0\t0\t0\t0\t0\t0\t0\t0\t0\t46\t130\t183\t253\t253\t207\t2\t0\t0\t0\t0\t0\t0\t0\t\n",
            "0\t0\t0\t0\t0\t0\t0\t0\t0\t0\t0\t0\t39\t148\t229\t253\t253\t253\t250\t182\t0\t0\t0\t0\t0\t0\t0\t0\t\n",
            "0\t0\t0\t0\t0\t0\t0\t0\t0\t0\t24\t114\t221\t253\t253\t253\t253\t201\t78\t0\t0\t0\t0\t0\t0\t0\t0\t0\t\n",
            "0\t0\t0\t0\t0\t0\t0\t0\t23\t66\t213\t253\t253\t253\t253\t198\t81\t2\t0\t0\t0\t0\t0\t0\t0\t0\t0\t0\t\n",
            "0\t0\t0\t0\t0\t0\t18\t171\t219\t253\t253\t253\t253\t195\t80\t9\t0\t0\t0\t0\t0\t0\t0\t0\t0\t0\t0\t0\t\n",
            "0\t0\t0\t0\t55\t172\t226\t253\t253\t253\t253\t244\t133\t11\t0\t0\t0\t0\t0\t0\t0\t0\t0\t0\t0\t0\t0\t0\t\n",
            "0\t0\t0\t0\t136\t253\t253\t253\t212\t135\t132\t16\t0\t0\t0\t0\t0\t0\t0\t0\t0\t0\t0\t0\t0\t0\t0\t0\t\n",
            "0\t0\t0\t0\t0\t0\t0\t0\t0\t0\t0\t0\t0\t0\t0\t0\t0\t0\t0\t0\t0\t0\t0\t0\t0\t0\t0\t0\t\n",
            "0\t0\t0\t0\t0\t0\t0\t0\t0\t0\t0\t0\t0\t0\t0\t0\t0\t0\t0\t0\t0\t0\t0\t0\t0\t0\t0\t0\t\n",
            "0\t0\t0\t0\t0\t0\t0\t0\t0\t0\t0\t0\t0\t0\t0\t0\t0\t0\t0\t0\t0\t0\t0\t0\t0\t0\t0\t0\t\n"
          ],
          "name": "stdout"
        }
      ]
    },
    {
      "cell_type": "markdown",
      "metadata": {
        "id": "ApSYWDVqaJZU",
        "colab_type": "text"
      },
      "source": [
        "### 각 픽셀 값을 딥러닝의 속성으로 넣기 위해 2차원 배열(28x28)로 된 이미지 데이트를 1차원 배열 (784)로 변환해야 함"
      ]
    },
    {
      "cell_type": "code",
      "metadata": {
        "id": "O_599yZOaMkJ",
        "colab_type": "code",
        "colab": {
          "base_uri": "https://localhost:8080/",
          "height": 54
        },
        "outputId": "2e7eddb3-d14e-41d6-a4da-1762263f2151"
      },
      "source": [
        "# 차원 변환\n",
        "X_train = X_train.reshape(X_train.shape[0], 784)\n",
        "\n",
        "import sys\n",
        "for x in X_train[0]:\n",
        "    sys.stdout.write('%d\\t' %x)"
      ],
      "execution_count": null,
      "outputs": [
        {
          "output_type": "stream",
          "text": [
            "0\t0\t0\t0\t0\t0\t0\t0\t0\t0\t0\t0\t0\t0\t0\t0\t0\t0\t0\t0\t0\t0\t0\t0\t0\t0\t0\t0\t0\t0\t0\t0\t0\t0\t0\t0\t0\t0\t0\t0\t0\t0\t0\t0\t0\t0\t0\t0\t0\t0\t0\t0\t0\t0\t0\t0\t0\t0\t0\t0\t0\t0\t0\t0\t0\t0\t0\t0\t0\t0\t0\t0\t0\t0\t0\t0\t0\t0\t0\t0\t0\t0\t0\t0\t0\t0\t0\t0\t0\t0\t0\t0\t0\t0\t0\t0\t0\t0\t0\t0\t0\t0\t0\t0\t0\t0\t0\t0\t0\t0\t0\t0\t0\t0\t0\t0\t0\t0\t0\t0\t0\t0\t0\t0\t0\t0\t0\t0\t0\t0\t0\t0\t0\t0\t0\t0\t0\t0\t0\t0\t0\t0\t0\t0\t0\t0\t0\t0\t0\t0\t0\t0\t3\t18\t18\t18\t126\t136\t175\t26\t166\t255\t247\t127\t0\t0\t0\t0\t0\t0\t0\t0\t0\t0\t0\t0\t30\t36\t94\t154\t170\t253\t253\t253\t253\t253\t225\t172\t253\t242\t195\t64\t0\t0\t0\t0\t0\t0\t0\t0\t0\t0\t0\t49\t238\t253\t253\t253\t253\t253\t253\t253\t253\t251\t93\t82\t82\t56\t39\t0\t0\t0\t0\t0\t0\t0\t0\t0\t0\t0\t0\t18\t219\t253\t253\t253\t253\t253\t198\t182\t247\t241\t0\t0\t0\t0\t0\t0\t0\t0\t0\t0\t0\t0\t0\t0\t0\t0\t0\t0\t80\t156\t107\t253\t253\t205\t11\t0\t43\t154\t0\t0\t0\t0\t0\t0\t0\t0\t0\t0\t0\t0\t0\t0\t0\t0\t0\t0\t0\t14\t1\t154\t253\t90\t0\t0\t0\t0\t0\t0\t0\t0\t0\t0\t0\t0\t0\t0\t0\t0\t0\t0\t0\t0\t0\t0\t0\t0\t0\t139\t253\t190\t2\t0\t0\t0\t0\t0\t0\t0\t0\t0\t0\t0\t0\t0\t0\t0\t0\t0\t0\t0\t0\t0\t0\t0\t0\t11\t190\t253\t70\t0\t0\t0\t0\t0\t0\t0\t0\t0\t0\t0\t0\t0\t0\t0\t0\t0\t0\t0\t0\t0\t0\t0\t0\t0\t35\t241\t225\t160\t108\t1\t0\t0\t0\t0\t0\t0\t0\t0\t0\t0\t0\t0\t0\t0\t0\t0\t0\t0\t0\t0\t0\t0\t0\t81\t240\t253\t253\t119\t25\t0\t0\t0\t0\t0\t0\t0\t0\t0\t0\t0\t0\t0\t0\t0\t0\t0\t0\t0\t0\t0\t0\t0\t45\t186\t253\t253\t150\t27\t0\t0\t0\t0\t0\t0\t0\t0\t0\t0\t0\t0\t0\t0\t0\t0\t0\t0\t0\t0\t0\t0\t0\t16\t93\t252\t253\t187\t0\t0\t0\t0\t0\t0\t0\t0\t0\t0\t0\t0\t0\t0\t0\t0\t0\t0\t0\t0\t0\t0\t0\t0\t0\t249\t253\t249\t64\t0\t0\t0\t0\t0\t0\t0\t0\t0\t0\t0\t0\t0\t0\t0\t0\t0\t0\t0\t0\t0\t46\t130\t183\t253\t253\t207\t2\t0\t0\t0\t0\t0\t0\t0\t0\t0\t0\t0\t0\t0\t0\t0\t0\t0\t0\t0\t39\t148\t229\t253\t253\t253\t250\t182\t0\t0\t0\t0\t0\t0\t0\t0\t0\t0\t0\t0\t0\t0\t0\t0\t0\t0\t24\t114\t221\t253\t253\t253\t253\t201\t78\t0\t0\t0\t0\t0\t0\t0\t0\t0\t0\t0\t0\t0\t0\t0\t0\t0\t23\t66\t213\t253\t253\t253\t253\t198\t81\t2\t0\t0\t0\t0\t0\t0\t0\t0\t0\t0\t0\t0\t0\t0\t0\t0\t18\t171\t219\t253\t253\t253\t253\t195\t80\t9\t0\t0\t0\t0\t0\t0\t0\t0\t0\t0\t0\t0\t0\t0\t0\t0\t55\t172\t226\t253\t253\t253\t253\t244\t133\t11\t0\t0\t0\t0\t0\t0\t0\t0\t0\t0\t0\t0\t0\t0\t0\t0\t0\t0\t136\t253\t253\t253\t212\t135\t132\t16\t0\t0\t0\t0\t0\t0\t0\t0\t0\t0\t0\t0\t0\t0\t0\t0\t0\t0\t0\t0\t0\t0\t0\t0\t0\t0\t0\t0\t0\t0\t0\t0\t0\t0\t0\t0\t0\t0\t0\t0\t0\t0\t0\t0\t0\t0\t0\t0\t0\t0\t0\t0\t0\t0\t0\t0\t0\t0\t0\t0\t0\t0\t0\t0\t0\t0\t0\t0\t0\t0\t0\t0\t0\t0\t0\t0\t0\t0\t0\t0\t0\t0\t0\t0\t0\t0\t0\t0\t0\t0\t0\t0\t0\t0\t0\t0\t0\t0\t0\t0\t"
          ],
          "name": "stdout"
        }
      ]
    },
    {
      "cell_type": "markdown",
      "metadata": {
        "id": "vfAQD03raaos",
        "colab_type": "text"
      },
      "source": [
        "### Keras는 데이터를 0에서 1 사이의 값으로 변환한 다음 구동할 때 최적의 성능을 보이므로 0-255 범위의 값을 0-1 범위로 변환 (정규화 (normalization))"
      ]
    },
    {
      "cell_type": "code",
      "metadata": {
        "id": "AzN66Zhoahry",
        "colab_type": "code",
        "colab": {
          "base_uri": "https://localhost:8080/",
          "height": 54
        },
        "outputId": "2664392e-f05f-4a89-ac6a-0a58455cbe8d"
      },
      "source": [
        "X_train = X_train.astype(\"float32\") / 255\n",
        "\n",
        "import sys\n",
        "for x in X_train[0]:\n",
        "    sys.stdout.write('%.3f\\t' %x)"
      ],
      "execution_count": null,
      "outputs": [
        {
          "output_type": "stream",
          "text": [
            "0.000\t0.000\t0.000\t0.000\t0.000\t0.000\t0.000\t0.000\t0.000\t0.000\t0.000\t0.000\t0.000\t0.000\t0.000\t0.000\t0.000\t0.000\t0.000\t0.000\t0.000\t0.000\t0.000\t0.000\t0.000\t0.000\t0.000\t0.000\t0.000\t0.000\t0.000\t0.000\t0.000\t0.000\t0.000\t0.000\t0.000\t0.000\t0.000\t0.000\t0.000\t0.000\t0.000\t0.000\t0.000\t0.000\t0.000\t0.000\t0.000\t0.000\t0.000\t0.000\t0.000\t0.000\t0.000\t0.000\t0.000\t0.000\t0.000\t0.000\t0.000\t0.000\t0.000\t0.000\t0.000\t0.000\t0.000\t0.000\t0.000\t0.000\t0.000\t0.000\t0.000\t0.000\t0.000\t0.000\t0.000\t0.000\t0.000\t0.000\t0.000\t0.000\t0.000\t0.000\t0.000\t0.000\t0.000\t0.000\t0.000\t0.000\t0.000\t0.000\t0.000\t0.000\t0.000\t0.000\t0.000\t0.000\t0.000\t0.000\t0.000\t0.000\t0.000\t0.000\t0.000\t0.000\t0.000\t0.000\t0.000\t0.000\t0.000\t0.000\t0.000\t0.000\t0.000\t0.000\t0.000\t0.000\t0.000\t0.000\t0.000\t0.000\t0.000\t0.000\t0.000\t0.000\t0.000\t0.000\t0.000\t0.000\t0.000\t0.000\t0.000\t0.000\t0.000\t0.000\t0.000\t0.000\t0.000\t0.000\t0.000\t0.000\t0.000\t0.000\t0.000\t0.000\t0.000\t0.000\t0.000\t0.000\t0.000\t0.000\t0.012\t0.071\t0.071\t0.071\t0.494\t0.533\t0.686\t0.102\t0.651\t1.000\t0.969\t0.498\t0.000\t0.000\t0.000\t0.000\t0.000\t0.000\t0.000\t0.000\t0.000\t0.000\t0.000\t0.000\t0.118\t0.141\t0.369\t0.604\t0.667\t0.992\t0.992\t0.992\t0.992\t0.992\t0.882\t0.675\t0.992\t0.949\t0.765\t0.251\t0.000\t0.000\t0.000\t0.000\t0.000\t0.000\t0.000\t0.000\t0.000\t0.000\t0.000\t0.192\t0.933\t0.992\t0.992\t0.992\t0.992\t0.992\t0.992\t0.992\t0.992\t0.984\t0.365\t0.322\t0.322\t0.220\t0.153\t0.000\t0.000\t0.000\t0.000\t0.000\t0.000\t0.000\t0.000\t0.000\t0.000\t0.000\t0.000\t0.071\t0.859\t0.992\t0.992\t0.992\t0.992\t0.992\t0.776\t0.714\t0.969\t0.945\t0.000\t0.000\t0.000\t0.000\t0.000\t0.000\t0.000\t0.000\t0.000\t0.000\t0.000\t0.000\t0.000\t0.000\t0.000\t0.000\t0.000\t0.000\t0.314\t0.612\t0.420\t0.992\t0.992\t0.804\t0.043\t0.000\t0.169\t0.604\t0.000\t0.000\t0.000\t0.000\t0.000\t0.000\t0.000\t0.000\t0.000\t0.000\t0.000\t0.000\t0.000\t0.000\t0.000\t0.000\t0.000\t0.000\t0.000\t0.055\t0.004\t0.604\t0.992\t0.353\t0.000\t0.000\t0.000\t0.000\t0.000\t0.000\t0.000\t0.000\t0.000\t0.000\t0.000\t0.000\t0.000\t0.000\t0.000\t0.000\t0.000\t0.000\t0.000\t0.000\t0.000\t0.000\t0.000\t0.000\t0.000\t0.545\t0.992\t0.745\t0.008\t0.000\t0.000\t0.000\t0.000\t0.000\t0.000\t0.000\t0.000\t0.000\t0.000\t0.000\t0.000\t0.000\t0.000\t0.000\t0.000\t0.000\t0.000\t0.000\t0.000\t0.000\t0.000\t0.000\t0.000\t0.043\t0.745\t0.992\t0.275\t0.000\t0.000\t0.000\t0.000\t0.000\t0.000\t0.000\t0.000\t0.000\t0.000\t0.000\t0.000\t0.000\t0.000\t0.000\t0.000\t0.000\t0.000\t0.000\t0.000\t0.000\t0.000\t0.000\t0.000\t0.000\t0.137\t0.945\t0.882\t0.627\t0.424\t0.004\t0.000\t0.000\t0.000\t0.000\t0.000\t0.000\t0.000\t0.000\t0.000\t0.000\t0.000\t0.000\t0.000\t0.000\t0.000\t0.000\t0.000\t0.000\t0.000\t0.000\t0.000\t0.000\t0.000\t0.318\t0.941\t0.992\t0.992\t0.467\t0.098\t0.000\t0.000\t0.000\t0.000\t0.000\t0.000\t0.000\t0.000\t0.000\t0.000\t0.000\t0.000\t0.000\t0.000\t0.000\t0.000\t0.000\t0.000\t0.000\t0.000\t0.000\t0.000\t0.000\t0.176\t0.729\t0.992\t0.992\t0.588\t0.106\t0.000\t0.000\t0.000\t0.000\t0.000\t0.000\t0.000\t0.000\t0.000\t0.000\t0.000\t0.000\t0.000\t0.000\t0.000\t0.000\t0.000\t0.000\t0.000\t0.000\t0.000\t0.000\t0.000\t0.063\t0.365\t0.988\t0.992\t0.733\t0.000\t0.000\t0.000\t0.000\t0.000\t0.000\t0.000\t0.000\t0.000\t0.000\t0.000\t0.000\t0.000\t0.000\t0.000\t0.000\t0.000\t0.000\t0.000\t0.000\t0.000\t0.000\t0.000\t0.000\t0.000\t0.976\t0.992\t0.976\t0.251\t0.000\t0.000\t0.000\t0.000\t0.000\t0.000\t0.000\t0.000\t0.000\t0.000\t0.000\t0.000\t0.000\t0.000\t0.000\t0.000\t0.000\t0.000\t0.000\t0.000\t0.000\t0.180\t0.510\t0.718\t0.992\t0.992\t0.812\t0.008\t0.000\t0.000\t0.000\t0.000\t0.000\t0.000\t0.000\t0.000\t0.000\t0.000\t0.000\t0.000\t0.000\t0.000\t0.000\t0.000\t0.000\t0.000\t0.000\t0.153\t0.580\t0.898\t0.992\t0.992\t0.992\t0.980\t0.714\t0.000\t0.000\t0.000\t0.000\t0.000\t0.000\t0.000\t0.000\t0.000\t0.000\t0.000\t0.000\t0.000\t0.000\t0.000\t0.000\t0.000\t0.000\t0.094\t0.447\t0.867\t0.992\t0.992\t0.992\t0.992\t0.788\t0.306\t0.000\t0.000\t0.000\t0.000\t0.000\t0.000\t0.000\t0.000\t0.000\t0.000\t0.000\t0.000\t0.000\t0.000\t0.000\t0.000\t0.000\t0.090\t0.259\t0.835\t0.992\t0.992\t0.992\t0.992\t0.776\t0.318\t0.008\t0.000\t0.000\t0.000\t0.000\t0.000\t0.000\t0.000\t0.000\t0.000\t0.000\t0.000\t0.000\t0.000\t0.000\t0.000\t0.000\t0.071\t0.671\t0.859\t0.992\t0.992\t0.992\t0.992\t0.765\t0.314\t0.035\t0.000\t0.000\t0.000\t0.000\t0.000\t0.000\t0.000\t0.000\t0.000\t0.000\t0.000\t0.000\t0.000\t0.000\t0.000\t0.000\t0.216\t0.675\t0.886\t0.992\t0.992\t0.992\t0.992\t0.957\t0.522\t0.043\t0.000\t0.000\t0.000\t0.000\t0.000\t0.000\t0.000\t0.000\t0.000\t0.000\t0.000\t0.000\t0.000\t0.000\t0.000\t0.000\t0.000\t0.000\t0.533\t0.992\t0.992\t0.992\t0.831\t0.529\t0.518\t0.063\t0.000\t0.000\t0.000\t0.000\t0.000\t0.000\t0.000\t0.000\t0.000\t0.000\t0.000\t0.000\t0.000\t0.000\t0.000\t0.000\t0.000\t0.000\t0.000\t0.000\t0.000\t0.000\t0.000\t0.000\t0.000\t0.000\t0.000\t0.000\t0.000\t0.000\t0.000\t0.000\t0.000\t0.000\t0.000\t0.000\t0.000\t0.000\t0.000\t0.000\t0.000\t0.000\t0.000\t0.000\t0.000\t0.000\t0.000\t0.000\t0.000\t0.000\t0.000\t0.000\t0.000\t0.000\t0.000\t0.000\t0.000\t0.000\t0.000\t0.000\t0.000\t0.000\t0.000\t0.000\t0.000\t0.000\t0.000\t0.000\t0.000\t0.000\t0.000\t0.000\t0.000\t0.000\t0.000\t0.000\t0.000\t0.000\t0.000\t0.000\t0.000\t0.000\t0.000\t0.000\t0.000\t0.000\t0.000\t0.000\t0.000\t0.000\t0.000\t0.000\t0.000\t0.000\t0.000\t0.000\t0.000\t0.000\t0.000\t0.000\t"
          ],
          "name": "stdout"
        }
      ]
    },
    {
      "cell_type": "markdown",
      "metadata": {
        "id": "911bn9TfaopK",
        "colab_type": "text"
      },
      "source": [
        "### 테스트 데이터 셋도 동일하게 변환"
      ]
    },
    {
      "cell_type": "code",
      "metadata": {
        "id": "79-w83Mdarpk",
        "colab_type": "code",
        "colab": {}
      },
      "source": [
        "X_test = X_test.reshape(X_test.shape[0], 784).astype(\"float32\") / 255"
      ],
      "execution_count": null,
      "outputs": []
    },
    {
      "cell_type": "markdown",
      "metadata": {
        "id": "1irrE62PazIC",
        "colab_type": "text"
      },
      "source": [
        "###  레이블 값 출력"
      ]
    },
    {
      "cell_type": "code",
      "metadata": {
        "id": "ZvBDPrp9a9xt",
        "colab_type": "code",
        "colab": {
          "base_uri": "https://localhost:8080/",
          "height": 34
        },
        "outputId": "5f73674f-a53d-4794-dbfc-8100e51d902e"
      },
      "source": [
        "print(\"class : %d \" % (Y_train[0]))"
      ],
      "execution_count": null,
      "outputs": [
        {
          "output_type": "stream",
          "text": [
            "class : 5 \n"
          ],
          "name": "stdout"
        }
      ]
    },
    {
      "cell_type": "markdown",
      "metadata": {
        "id": "yIycvxuFbFUD",
        "colab_type": "text"
      },
      "source": [
        "### 분류 문제를 해결하기 위해서는 레이블(0~9)을 원-핫 인코딩 방식을 적용해야 함."
      ]
    },
    {
      "cell_type": "code",
      "metadata": {
        "id": "bDyYPIXWbIwE",
        "colab_type": "code",
        "colab": {
          "base_uri": "https://localhost:8080/",
          "height": 34
        },
        "outputId": "0709fea9-26e0-4c87-8c30-589d2f743cd2"
      },
      "source": [
        "from keras.utils import np_utils\n",
        "\n",
        "# 원핫 인코딩의 바이트 수를 10으로 설정 (총 10 종류의 레이블이므로)\n",
        "Y_train = np_utils.to_categorical(Y_train, 10)\n",
        "Y_test = np_utils.to_categorical(Y_test, 10)\n",
        "\n",
        "print(Y_train[0])"
      ],
      "execution_count": null,
      "outputs": [
        {
          "output_type": "stream",
          "text": [
            "[0. 0. 0. 0. 0. 1. 0. 0. 0. 0.]\n"
          ],
          "name": "stdout"
        }
      ]
    },
    {
      "cell_type": "markdown",
      "metadata": {
        "id": "0g2upeUXbgCV",
        "colab_type": "text"
      },
      "source": [
        "### 기본 프레임 만들기"
      ]
    },
    {
      "cell_type": "code",
      "metadata": {
        "id": "_MMizhzjcFRl",
        "colab_type": "code",
        "colab": {}
      },
      "source": [
        "from keras.models import Sequential\n",
        "from keras.layers import Dense\n",
        "\n",
        "# 모델 설정\n",
        "model = Sequential()\n",
        "# 전체 픽셀 수를 입력을 받음\n",
        "model.add(Dense(512, input_dim=784, activation=\"relu\"))\n",
        "# 0-9를 분류해야 하므로 출력을 10으로 설정\n",
        "model.add(Dense(10, activation=\"softmax\"))"
      ],
      "execution_count": null,
      "outputs": []
    },
    {
      "cell_type": "code",
      "metadata": {
        "id": "xjaNu77vpMP-",
        "colab_type": "code",
        "colab": {}
      },
      "source": [
        "model.compile(loss=\"categorical_crossentropy\", optimizer=\"adam\", metrics=['accuracy'])\n",
        "\n",
        "model.fit(X_train, Y_train, validation_data=(X_test, Y_test), epochs=30, batch_size=200, verbose=0)"
      ],
      "execution_count": null,
      "outputs": []
    },
    {
      "cell_type": "code",
      "metadata": {
        "id": "WuHx_iYwcdb8",
        "colab_type": "code",
        "colab": {}
      },
      "source": [
        "# 모델 평가\n",
        "print(\"\\n Accuracy : %.4f\" % (model.evaluate(X_test, Y_test)[1]))"
      ],
      "execution_count": null,
      "outputs": []
    },
    {
      "cell_type": "markdown",
      "metadata": {
        "id": "UquitwN6dC0F",
        "colab_type": "text"
      },
      "source": [
        "### 베스트 모델 저장 및 학습 중단 "
      ]
    },
    {
      "cell_type": "code",
      "metadata": {
        "id": "7qvnJR1UhNx1",
        "colab_type": "code",
        "colab": {
          "base_uri": "https://localhost:8080/",
          "height": 34
        },
        "outputId": "c825dd2b-b8ba-40dc-a13f-d0c353eacb43"
      },
      "source": [
        "from google.colab import drive\n",
        "drive.mount('/gdrive')"
      ],
      "execution_count": null,
      "outputs": [
        {
          "output_type": "stream",
          "text": [
            "Drive already mounted at /gdrive; to attempt to forcibly remount, call drive.mount(\"/gdrive\", force_remount=True).\n"
          ],
          "name": "stdout"
        }
      ]
    },
    {
      "cell_type": "code",
      "metadata": {
        "id": "_yFrPWrWdMeE",
        "colab_type": "code",
        "colab": {
          "base_uri": "https://localhost:8080/",
          "height": 580
        },
        "outputId": "b5a3d4b3-64e7-4b2b-ebd4-738e87434adf"
      },
      "source": [
        "from keras.callbacks import ModelCheckpoint, EarlyStopping\n",
        "import os\n",
        "\n",
        "model.compile(loss=\"categorical_crossentropy\", optimizer=\"adam\", metrics=['accuracy'])\n",
        "\n",
        "MODEL_DIR = \"/gdrive/My Drive/Colab Notebooks/인공지능강의안/model/\"\n",
        "if not os.path.exists(MODEL_DIR):\n",
        "    os.mkdir(MODEL_DIR)\n",
        "    \n",
        "modelpath = MODEL_DIR + \"{epoch:02d}-{val_loss:.4f}.hdf5\"\n",
        "\n",
        "checkpointer = ModelCheckpoint(filepath=modelpath, monitor=\"val_loss\", verbose=1, save_best_only=True)\n",
        "early_stopping_callback = EarlyStopping(monitor=\"val_loss\", patience=10)\n",
        "\n",
        "history = model.fit(X_train, Y_train, validation_data=(X_test, Y_test), epochs=30, batch_size=200, \n",
        "                    verbose=0, callbacks=[early_stopping_callback, checkpointer])"
      ],
      "execution_count": null,
      "outputs": [
        {
          "output_type": "stream",
          "text": [
            "\n",
            "Epoch 00001: val_loss improved from inf to 0.08617, saving model to /gdrive/My Drive/Colab Notebooks/인공지능강의안/model/01-0.0862.hdf5\n",
            "\n",
            "Epoch 00002: val_loss did not improve from 0.08617\n",
            "\n",
            "Epoch 00003: val_loss did not improve from 0.08617\n",
            "\n",
            "Epoch 00004: val_loss did not improve from 0.08617\n",
            "\n",
            "Epoch 00005: val_loss improved from 0.08617 to 0.07768, saving model to /gdrive/My Drive/Colab Notebooks/인공지능강의안/model/05-0.0777.hdf5\n",
            "\n",
            "Epoch 00006: val_loss improved from 0.07768 to 0.07759, saving model to /gdrive/My Drive/Colab Notebooks/인공지능강의안/model/06-0.0776.hdf5\n",
            "\n",
            "Epoch 00007: val_loss did not improve from 0.07759\n",
            "\n",
            "Epoch 00008: val_loss did not improve from 0.07759\n",
            "\n",
            "Epoch 00009: val_loss did not improve from 0.07759\n",
            "\n",
            "Epoch 00010: val_loss did not improve from 0.07759\n",
            "\n",
            "Epoch 00011: val_loss did not improve from 0.07759\n",
            "\n",
            "Epoch 00012: val_loss did not improve from 0.07759\n",
            "\n",
            "Epoch 00013: val_loss did not improve from 0.07759\n",
            "\n",
            "Epoch 00014: val_loss did not improve from 0.07759\n",
            "\n",
            "Epoch 00015: val_loss did not improve from 0.07759\n",
            "\n",
            "Epoch 00016: val_loss did not improve from 0.07759\n"
          ],
          "name": "stdout"
        }
      ]
    },
    {
      "cell_type": "markdown",
      "metadata": {
        "id": "SMORxZ4Sr80P",
        "colab_type": "text"
      },
      "source": [
        "- epochs를 30으로 설정했지만 19번째에서 학습을 미리 끝냄\n",
        "- 저장된 모델을 확인해보면 9번째 에포크가 베스트 모델임을 알 수 있음"
      ]
    },
    {
      "cell_type": "code",
      "metadata": {
        "id": "GGtABAdErXhh",
        "colab_type": "code",
        "colab": {
          "base_uri": "https://localhost:8080/",
          "height": 70
        },
        "outputId": "5abc8e74-97b0-4fa1-e50a-e224446a98ef"
      },
      "source": [
        "print(\"\\n Accuracy : %.4f\" % (model.evaluate(X_test, Y_test)[1]))"
      ],
      "execution_count": null,
      "outputs": [
        {
          "output_type": "stream",
          "text": [
            "10000/10000 [==============================] - 1s 53us/step\n",
            "\n",
            " Accuracy : 0.9831\n"
          ],
          "name": "stdout"
        }
      ]
    },
    {
      "cell_type": "markdown",
      "metadata": {
        "id": "veNRuD-Hh3zt",
        "colab_type": "text"
      },
      "source": [
        "## 학습 오차 시각화\n",
        "\n"
      ]
    },
    {
      "cell_type": "code",
      "metadata": {
        "id": "Y2sFCIoLdCX0",
        "colab_type": "code",
        "colab": {
          "base_uri": "https://localhost:8080/",
          "height": 283
        },
        "outputId": "e3ee7f2a-fb6a-4008-ed4a-0b63793758ac"
      },
      "source": [
        "import matplotlib.pyplot as plt\n",
        "import numpy as np\n",
        "\n",
        "y_vloss = history.history['val_loss']\n",
        "y_loss = history.history['loss']\n",
        "\n",
        "x_len = np.arange(len(y_loss))\n",
        "plt.plot(x_len, y_vloss, marker=\".\", c=\"red\", label=\"Testset loss\")\n",
        "plt.plot(x_len, y_loss, marker=\".\", c=\"blue\", label=\"Trainset loss\")\n",
        "\n",
        "plt.legend(loc=\"upper right\")\n",
        "plt.grid()\n",
        "plt.xlabel(\"epoch\")\n",
        "plt.ylabel(\"loss\")\n",
        "plt.show()"
      ],
      "execution_count": null,
      "outputs": [
        {
          "output_type": "display_data",
          "data": {
            "image/png": "[encoded data removed]",
            "text/plain": [
              "<Figure size 432x288 with 1 Axes>"
            ]
          },
          "metadata": {
            "tags": []
          }
        }
      ]
    },
    {
      "cell_type": "markdown",
      "metadata": {
        "id": "cP5Y4vPKsphi",
        "colab_type": "text"
      },
      "source": [
        "### 베스트 모델을 이용하여 평가하기"
      ]
    },
    {
      "cell_type": "code",
      "metadata": {
        "id": "0CK9ufOpr8N2",
        "colab_type": "code",
        "colab": {}
      },
      "source": [
        "from keras.models import load_model\n",
        "\n",
        "model_best = load_model(\"/gdrive/My Drive/Colab Notebooks/인공지능강의안/model/06-0.0776.hdf5\")"
      ],
      "execution_count": null,
      "outputs": []
    },
    {
      "cell_type": "code",
      "metadata": {
        "id": "OX6Z37xus1PP",
        "colab_type": "code",
        "colab": {
          "base_uri": "https://localhost:8080/",
          "height": 70
        },
        "outputId": "a0f770c7-9192-40ed-9faa-c434be47a4e1"
      },
      "source": [
        "print(\"\\n Accuracy : %.4f\" % (model_best.evaluate(X_test, Y_test)[1]))"
      ],
      "execution_count": null,
      "outputs": [
        {
          "output_type": "stream",
          "text": [
            "10000/10000 [==============================] - 1s 71us/step\n",
            "\n",
            " Accuracy : 0.9832\n"
          ],
          "name": "stdout"
        }
      ]
    },
    {
      "cell_type": "markdown",
      "metadata": {
        "id": "ihhDLPtXuUv4",
        "colab_type": "text"
      },
      "source": [
        "# CNN (Convolution Neural Network)"
      ]
    },
    {
      "cell_type": "code",
      "metadata": {
        "id": "otJ8kWiV8wNH",
        "colab_type": "code",
        "colab": {}
      },
      "source": [
        "seed = 0\n",
        "np.random.seed(seed)\n",
        "tf.set_random_seed(seed)\n",
        "\n",
        "(X_train, Y_train), (X_test, Y_test) = mnist.load_data()\n",
        "\n",
        "# 테스트를 위해 데이터의 개수를 줄임 (원 훈련데이터 6000, 테스트 데이터 1000)\n",
        "X_train = X_train[:1000, :]\n",
        "Y_train = Y_train[:1000,]\n",
        "X_test = X_test[:300, :]\n",
        "Y_test = Y_test[:300,]"
      ],
      "execution_count": null,
      "outputs": []
    },
    {
      "cell_type": "code",
      "metadata": {
        "id": "NIbV7PNqugzo",
        "colab_type": "code",
        "colab": {}
      },
      "source": [
        "# 컨볼루션 층은 2차원 데이터를 사용하므로 데이터를 변환 (28 x 28)\n",
        "# 마지막 인자 1은 색상으로 흑백 (칼라는 3 -> RGB)\n",
        "# 분류 문제이므로 원핫 인코딩\n",
        "X_train = X_train.reshape(X_train.shape[0], 28, 28, 1).astype(\"float32\") / 255\n",
        "X_test = X_test.reshape(X_test.shape[0], 28, 28, 1).astype(\"float32\") / 255\n",
        "\n",
        "Y_train = np_utils.to_categorical(Y_train)\n",
        "Y_test = np_utils.to_categorical(Y_test)"
      ],
      "execution_count": null,
      "outputs": []
    },
    {
      "cell_type": "markdown",
      "metadata": {
        "id": "-mlVCYqxvfsc",
        "colab_type": "text"
      },
      "source": [
        "### 모델 생성"
      ]
    },
    {
      "cell_type": "code",
      "metadata": {
        "id": "hLqk-WcHvjrv",
        "colab_type": "code",
        "colab": {
          "base_uri": "https://localhost:8080/",
          "height": 316
        },
        "outputId": "85db087e-d0c0-4602-caa5-c77a5d02fe26"
      },
      "source": [
        "from keras.models import Sequential\n",
        "from keras.layers import Dense, Conv2D, Flatten, MaxPooling2D, Dropout\n",
        "\n",
        "model = Sequential()\n",
        "# (필터의 수, 필터 커널의 크기, 입력되는 값의 크기와 색상)\n",
        "model.add(Conv2D(32, kernel_size=(3, 3), input_shape=(28, 28, 1), activation=\"relu\"))\n",
        "model.add(Conv2D(64, (3, 3), activation=\"relu\"))\n",
        "# Dense는 1차원 배열을 사용하므로 2차원 배열을 1차원 배열로 변환\n",
        "model.add(Flatten())\n",
        "model.add(Dense(128, activation=\"relu\"))\n",
        "model.add(Dense(10, activation=\"softmax\"))\n",
        "\n",
        "model.summary()"
      ],
      "execution_count": null,
      "outputs": [
        {
          "output_type": "stream",
          "text": [
            "_________________________________________________________________\n",
            "Layer (type)                 Output Shape              Param #   \n",
            "=================================================================\n",
            "conv2d_1 (Conv2D)            (None, 26, 26, 32)        320       \n",
            "_________________________________________________________________\n",
            "conv2d_2 (Conv2D)            (None, 24, 24, 64)        18496     \n",
            "_________________________________________________________________\n",
            "flatten_1 (Flatten)          (None, 36864)             0         \n",
            "_________________________________________________________________\n",
            "dense_9 (Dense)              (None, 128)               4718720   \n",
            "_________________________________________________________________\n",
            "dense_10 (Dense)             (None, 10)                1290      \n",
            "=================================================================\n",
            "Total params: 4,738,826\n",
            "Trainable params: 4,738,826\n",
            "Non-trainable params: 0\n",
            "_________________________________________________________________\n"
          ],
          "name": "stdout"
        }
      ]
    },
    {
      "cell_type": "markdown",
      "metadata": {
        "id": "E7d5o4eAwQBH",
        "colab_type": "text"
      },
      "source": [
        "### 컴파일 및 실행"
      ]
    },
    {
      "cell_type": "code",
      "metadata": {
        "id": "VEQUz8mowTGg",
        "colab_type": "code",
        "colab": {
          "base_uri": "https://localhost:8080/",
          "height": 545
        },
        "outputId": "2a9c65e3-58d8-464a-ca42-e686a09b3aeb"
      },
      "source": [
        "model.compile(loss=\"categorical_crossentropy\", optimizer=\"adam\", metrics=['accuracy'])\n",
        "\n",
        "MODEL_DIR = \"/gdrive/My Drive/Colab Notebooks/인공지능강의안/model/\"\n",
        "\n",
        "if not os.path.exists(MODEL_DIR):\n",
        "    os.mkdir(MODEL_DIR)\n",
        "    \n",
        "modelpath = MODEL_DIR + \"{epoch:02d}-{val_loss:.4f}.hdf5\"\n",
        "\n",
        "checkpointer = ModelCheckpoint(filepath=modelpath, monitor=\"val_loss\", verbose=1, save_best_only=True)\n",
        "early_stopping_callback = EarlyStopping(monitor=\"val_loss\", patience=10)\n",
        "\n",
        "history = model.fit(X_train, Y_train, validation_data=(X_test, Y_test), epochs=30, batch_size=200, verbose=0, callbacks=[early_stopping_callback, checkpointer])"
      ],
      "execution_count": null,
      "outputs": [
        {
          "output_type": "stream",
          "text": [
            "\n",
            "Epoch 00001: val_loss improved from inf to 0.88798, saving model to /gdrive/My Drive/Colab Notebooks/인공지능강의안/model/01-0.8880.hdf5\n",
            "\n",
            "Epoch 00002: val_loss improved from 0.88798 to 0.56199, saving model to /gdrive/My Drive/Colab Notebooks/인공지능강의안/model/02-0.5620.hdf5\n",
            "\n",
            "Epoch 00003: val_loss improved from 0.56199 to 0.40520, saving model to /gdrive/My Drive/Colab Notebooks/인공지능강의안/model/03-0.4052.hdf5\n",
            "\n",
            "Epoch 00004: val_loss improved from 0.40520 to 0.37196, saving model to /gdrive/My Drive/Colab Notebooks/인공지능강의안/model/04-0.3720.hdf5\n",
            "\n",
            "Epoch 00005: val_loss improved from 0.37196 to 0.29926, saving model to /gdrive/My Drive/Colab Notebooks/인공지능강의안/model/05-0.2993.hdf5\n",
            "\n",
            "Epoch 00006: val_loss did not improve from 0.29926\n",
            "\n",
            "Epoch 00007: val_loss did not improve from 0.29926\n",
            "\n",
            "Epoch 00008: val_loss did not improve from 0.29926\n",
            "\n",
            "Epoch 00009: val_loss did not improve from 0.29926\n",
            "\n",
            "Epoch 00010: val_loss did not improve from 0.29926\n",
            "\n",
            "Epoch 00011: val_loss did not improve from 0.29926\n",
            "\n",
            "Epoch 00012: val_loss did not improve from 0.29926\n",
            "\n",
            "Epoch 00013: val_loss did not improve from 0.29926\n",
            "\n",
            "Epoch 00014: val_loss did not improve from 0.29926\n",
            "\n",
            "Epoch 00015: val_loss did not improve from 0.29926\n"
          ],
          "name": "stdout"
        }
      ]
    },
    {
      "cell_type": "code",
      "metadata": {
        "id": "O54lu9y_wnVY",
        "colab_type": "code",
        "colab": {}
      },
      "source": [
        "model_best = load_model(\"/gdrive/My Drive/Colab Notebooks/인공지능강의안/model/05-0.2993.hdf5\")"
      ],
      "execution_count": null,
      "outputs": []
    },
    {
      "cell_type": "code",
      "metadata": {
        "id": "qnAafc1Fwr7n",
        "colab_type": "code",
        "colab": {
          "base_uri": "https://localhost:8080/",
          "height": 70
        },
        "outputId": "0c0d28ff-453e-489b-8ae1-13212882e8e6"
      },
      "source": [
        "print(\"\\n Accuracy : %.4f\" % (model_best.evaluate(X_test, Y_test)[1]))"
      ],
      "execution_count": null,
      "outputs": [
        {
          "output_type": "stream",
          "text": [
            "300/300 [==============================] - 0s 2ms/step\n",
            "\n",
            " Accuracy : 0.9333\n"
          ],
          "name": "stdout"
        }
      ]
    },
    {
      "cell_type": "code",
      "metadata": {
        "id": "KzS97AXewx0j",
        "colab_type": "code",
        "colab": {
          "base_uri": "https://localhost:8080/",
          "height": 283
        },
        "outputId": "330f1b08-5453-4c77-e032-aecf6099da9d"
      },
      "source": [
        "y_vloss = history.history['val_loss']\n",
        "y_loss = history.history['loss']\n",
        "\n",
        "x_len = np.arange(len(y_loss))\n",
        "plt.plot(x_len, y_vloss, marker=\".\", c=\"red\", label=\"Testset loss\")\n",
        "plt.plot(x_len, y_loss, marker=\".\", c=\"blue\", label=\"Trainset loss\")\n",
        "\n",
        "plt.legend(loc=\"upper right\")\n",
        "plt.grid()\n",
        "plt.xlabel(\"epoch\")\n",
        "plt.ylabel(\"loss\")\n",
        "plt.show()"
      ],
      "execution_count": null,
      "outputs": [
        {
          "output_type": "display_data",
          "data": {
            "image/png": "[encoded data removed]",
            "text/plain": [
              "<Figure size 432x288 with 1 Axes>"
            ]
          },
          "metadata": {
            "tags": []
          }
        }
      ]
    },
    {
      "cell_type": "markdown",
      "metadata": {
        "id": "Cwsx7G-O-OZO",
        "colab_type": "text"
      },
      "source": [
        "## MaxPooling 층"
      ]
    },
    {
      "cell_type": "code",
      "metadata": {
        "id": "3Cml2Uj4-Szk",
        "colab_type": "code",
        "colab": {
          "base_uri": "https://localhost:8080/",
          "height": 73
        },
        "outputId": "4e185d2e-c649-47bb-bd9b-2e168c4905f2"
      },
      "source": [
        "model = Sequential()\n",
        "# (필터의 수, 필터 커널의 크기, 입력되는 값의 크기와 색상)\n",
        "model.add(Conv2D(32, kernel_size=(3, 3), input_shape=(28, 28, 1), activation=\"relu\"))\n",
        "model.add(Conv2D(64, (3, 3), activation=\"relu\"))\n",
        "model.add(MaxPooling2D(pool_size=2))\n",
        "# Dense는 1차원 배열을 사용하므로 2차원 배열을 1차원 배열로 변환\n",
        "model.add(Flatten())\n",
        "model.add(Dense(128, activation=\"relu\"))\n",
        "model.add(Dense(10, activation=\"softmax\"))"
      ],
      "execution_count": null,
      "outputs": [
        {
          "output_type": "stream",
          "text": [
            "W0715 14:12:45.789976 140583654909824 deprecation_wrapper.py:119] From /usr/local/lib/python3.6/dist-packages/keras/backend/tensorflow_backend.py:3976: The name tf.nn.max_pool is deprecated. Please use tf.nn.max_pool2d instead.\n",
            "\n"
          ],
          "name": "stderr"
        }
      ]
    },
    {
      "cell_type": "code",
      "metadata": {
        "id": "CBJPO3Pl-pdl",
        "colab_type": "code",
        "colab": {
          "base_uri": "https://localhost:8080/",
          "height": 737
        },
        "outputId": "3c6d162b-d3bb-4fbf-ed33-e02e0866821a"
      },
      "source": [
        "model.compile(loss=\"categorical_crossentropy\", optimizer=\"adam\", metrics=['accuracy'])\n",
        "\n",
        "MODEL_DIR = \"/gdrive/My Drive/Colab Notebooks/인공지능강의안/model/\"\n",
        "\n",
        "if not os.path.exists(MODEL_DIR):\n",
        "    os.mkdir(MODEL_DIR)\n",
        "    \n",
        "modelpath = MODEL_DIR + \"{epoch:02d}-{val_loss:.4f}.hdf5\"\n",
        "\n",
        "checkpointer = ModelCheckpoint(filepath=modelpath, monitor=\"val_loss\", verbose=1, save_best_only=True)\n",
        "early_stopping_callback = EarlyStopping(monitor=\"val_loss\", patience=10)\n",
        "\n",
        "history = model.fit(X_train, Y_train, validation_data=(X_test, Y_test), epochs=30, batch_size=200, verbose=0, callbacks=[early_stopping_callback, checkpointer])"
      ],
      "execution_count": null,
      "outputs": [
        {
          "output_type": "stream",
          "text": [
            "\n",
            "Epoch 00001: val_loss improved from inf to 1.40382, saving model to /gdrive/My Drive/Colab Notebooks/인공지능강의안/model/01-1.4038.hdf5\n",
            "\n",
            "Epoch 00002: val_loss improved from 1.40382 to 0.70081, saving model to /gdrive/My Drive/Colab Notebooks/인공지능강의안/model/02-0.7008.hdf5\n",
            "\n",
            "Epoch 00003: val_loss improved from 0.70081 to 0.54676, saving model to /gdrive/My Drive/Colab Notebooks/인공지능강의안/model/03-0.5468.hdf5\n",
            "\n",
            "Epoch 00004: val_loss improved from 0.54676 to 0.44146, saving model to /gdrive/My Drive/Colab Notebooks/인공지능강의안/model/04-0.4415.hdf5\n",
            "\n",
            "Epoch 00005: val_loss improved from 0.44146 to 0.33125, saving model to /gdrive/My Drive/Colab Notebooks/인공지능강의안/model/05-0.3313.hdf5\n",
            "\n",
            "Epoch 00006: val_loss improved from 0.33125 to 0.28489, saving model to /gdrive/My Drive/Colab Notebooks/인공지능강의안/model/06-0.2849.hdf5\n",
            "\n",
            "Epoch 00007: val_loss improved from 0.28489 to 0.26809, saving model to /gdrive/My Drive/Colab Notebooks/인공지능강의안/model/07-0.2681.hdf5\n",
            "\n",
            "Epoch 00008: val_loss improved from 0.26809 to 0.24667, saving model to /gdrive/My Drive/Colab Notebooks/인공지능강의안/model/08-0.2467.hdf5\n",
            "\n",
            "Epoch 00009: val_loss did not improve from 0.24667\n",
            "\n",
            "Epoch 00010: val_loss improved from 0.24667 to 0.22277, saving model to /gdrive/My Drive/Colab Notebooks/인공지능강의안/model/10-0.2228.hdf5\n",
            "\n",
            "Epoch 00011: val_loss did not improve from 0.22277\n",
            "\n",
            "Epoch 00012: val_loss did not improve from 0.22277\n",
            "\n",
            "Epoch 00013: val_loss did not improve from 0.22277\n",
            "\n",
            "Epoch 00014: val_loss did not improve from 0.22277\n",
            "\n",
            "Epoch 00015: val_loss did not improve from 0.22277\n",
            "\n",
            "Epoch 00016: val_loss did not improve from 0.22277\n",
            "\n",
            "Epoch 00017: val_loss did not improve from 0.22277\n",
            "\n",
            "Epoch 00018: val_loss did not improve from 0.22277\n",
            "\n",
            "Epoch 00019: val_loss did not improve from 0.22277\n",
            "\n",
            "Epoch 00020: val_loss did not improve from 0.22277\n"
          ],
          "name": "stdout"
        }
      ]
    },
    {
      "cell_type": "code",
      "metadata": {
        "id": "9s3Aw817-x0c",
        "colab_type": "code",
        "colab": {}
      },
      "source": [
        "model_best = load_model(\"/gdrive/My Drive/Colab Notebooks/인공지능강의안/model/10-0.2228.hdf5\")"
      ],
      "execution_count": null,
      "outputs": []
    },
    {
      "cell_type": "code",
      "metadata": {
        "id": "1QOXg9mR-2Hk",
        "colab_type": "code",
        "colab": {
          "base_uri": "https://localhost:8080/",
          "height": 71
        },
        "outputId": "3d224b4d-ca01-4ace-c447-e7646e4d8c03"
      },
      "source": [
        "print(\"\\n Accuracy : %.4f\" % (model_best.evaluate(X_test, Y_test)[1]))"
      ],
      "execution_count": null,
      "outputs": [
        {
          "output_type": "stream",
          "text": [
            "300/300 [==============================] - 1s 2ms/step\n",
            "\n",
            " Accuracy : 0.9333\n"
          ],
          "name": "stdout"
        }
      ]
    },
    {
      "cell_type": "code",
      "metadata": {
        "id": "3mkXQXlq-3uk",
        "colab_type": "code",
        "colab": {
          "base_uri": "https://localhost:8080/",
          "height": 283
        },
        "outputId": "b68638c1-dda5-457f-8f60-12e89d0330b9"
      },
      "source": [
        "y_vloss = history.history['val_loss']\n",
        "y_loss = history.history['loss']\n",
        "\n",
        "x_len = np.arange(len(y_loss))\n",
        "plt.plot(x_len, y_vloss, marker=\".\", c=\"red\", label=\"Testset loss\")\n",
        "plt.plot(x_len, y_loss, marker=\".\", c=\"blue\", label=\"Trainset loss\")\n",
        "\n",
        "plt.legend(loc=\"upper right\")\n",
        "plt.grid()\n",
        "plt.xlabel(\"epoch\")\n",
        "plt.ylabel(\"loss\")\n",
        "plt.show()"
      ],
      "execution_count": null,
      "outputs": [
        {
          "output_type": "display_data",
          "data": {
            "image/png": "[encoded data removed]",
            "text/plain": [
              "<Figure size 432x288 with 1 Axes>"
            ]
          },
          "metadata": {
            "tags": []
          }
        }
      ]
    },
    {
      "cell_type": "markdown",
      "metadata": {
        "id": "_kEdj5F3_FJz",
        "colab_type": "text"
      },
      "source": [
        "- MaxPooling을 사용하니 과대적합이 감소"
      ]
    },
    {
      "cell_type": "markdown",
      "metadata": {
        "id": "y5cx-ml__QlK",
        "colab_type": "text"
      },
      "source": [
        "## Dropout 층"
      ]
    },
    {
      "cell_type": "code",
      "metadata": {
        "id": "nG_i8WqU_TMs",
        "colab_type": "code",
        "colab": {}
      },
      "source": [
        "model = Sequential()\n",
        "\n",
        "model.add(Conv2D(32, kernel_size=(3, 3), input_shape=(28, 28, 1), activation=\"relu\"))\n",
        "model.add(Conv2D(64, (3, 3), activation=\"relu\"))\n",
        "model.add(MaxPooling2D(pool_size=2))\n",
        "model.add(Dropout(0.25))\n",
        "model.add(Flatten())\n",
        "model.add(Dense(128, activation=\"relu\"))\n",
        "model.add(Dropout(0.5))\n",
        "model.add(Dense(10, activation=\"softmax\"))"
      ],
      "execution_count": null,
      "outputs": []
    },
    {
      "cell_type": "code",
      "metadata": {
        "id": "AAdcLgjP_euF",
        "colab_type": "code",
        "colab": {
          "base_uri": "https://localhost:8080/",
          "height": 1000
        },
        "outputId": "06d84cb3-e9ad-4ef1-f26b-22349ed02cac"
      },
      "source": [
        "model.compile(loss=\"categorical_crossentropy\", optimizer=\"adam\", metrics=['accuracy'])\n",
        "\n",
        "MODEL_DIR = \"/gdrive/My Drive/Colab Notebooks/인공지능강의안/model/\"\n",
        "\n",
        "if not os.path.exists(MODEL_DIR):\n",
        "    os.mkdir(MODEL_DIR)\n",
        "    \n",
        "modelpath = MODEL_DIR + \"{epoch:02d}-{val_loss:.4f}.hdf5\"\n",
        "\n",
        "checkpointer = ModelCheckpoint(filepath=modelpath, monitor=\"val_loss\", verbose=1, save_best_only=True)\n",
        "early_stopping_callback = EarlyStopping(monitor=\"val_loss\", patience=10)\n",
        "\n",
        "history = model.fit(X_train, Y_train, validation_data=(X_test, Y_test), epochs=30, batch_size=200, verbose=0, callbacks=[early_stopping_callback, checkpointer])"
      ],
      "execution_count": null,
      "outputs": [
        {
          "output_type": "stream",
          "text": [
            "\n",
            "Epoch 00001: val_loss improved from inf to 1.63919, saving model to /gdrive/My Drive/Colab Notebooks/인공지능강의안/model/01-1.6392.hdf5\n",
            "\n",
            "Epoch 00002: val_loss improved from 1.63919 to 0.80535, saving model to /gdrive/My Drive/Colab Notebooks/인공지능강의안/model/02-0.8054.hdf5\n",
            "\n",
            "Epoch 00003: val_loss improved from 0.80535 to 0.58133, saving model to /gdrive/My Drive/Colab Notebooks/인공지능강의안/model/03-0.5813.hdf5\n",
            "\n",
            "Epoch 00004: val_loss improved from 0.58133 to 0.48713, saving model to /gdrive/My Drive/Colab Notebooks/인공지능강의안/model/04-0.4871.hdf5\n",
            "\n",
            "Epoch 00005: val_loss improved from 0.48713 to 0.42004, saving model to /gdrive/My Drive/Colab Notebooks/인공지능강의안/model/05-0.4200.hdf5\n",
            "\n",
            "Epoch 00006: val_loss improved from 0.42004 to 0.33855, saving model to /gdrive/My Drive/Colab Notebooks/인공지능강의안/model/06-0.3385.hdf5\n",
            "\n",
            "Epoch 00007: val_loss improved from 0.33855 to 0.29271, saving model to /gdrive/My Drive/Colab Notebooks/인공지능강의안/model/07-0.2927.hdf5\n",
            "\n",
            "Epoch 00008: val_loss improved from 0.29271 to 0.27818, saving model to /gdrive/My Drive/Colab Notebooks/인공지능강의안/model/08-0.2782.hdf5\n",
            "\n",
            "Epoch 00009: val_loss improved from 0.27818 to 0.25972, saving model to /gdrive/My Drive/Colab Notebooks/인공지능강의안/model/09-0.2597.hdf5\n",
            "\n",
            "Epoch 00010: val_loss improved from 0.25972 to 0.24564, saving model to /gdrive/My Drive/Colab Notebooks/인공지능강의안/model/10-0.2456.hdf5\n",
            "\n",
            "Epoch 00011: val_loss improved from 0.24564 to 0.22121, saving model to /gdrive/My Drive/Colab Notebooks/인공지능강의안/model/11-0.2212.hdf5\n",
            "\n",
            "Epoch 00012: val_loss improved from 0.22121 to 0.20617, saving model to /gdrive/My Drive/Colab Notebooks/인공지능강의안/model/12-0.2062.hdf5\n",
            "\n",
            "Epoch 00013: val_loss improved from 0.20617 to 0.20606, saving model to /gdrive/My Drive/Colab Notebooks/인공지능강의안/model/13-0.2061.hdf5\n",
            "\n",
            "Epoch 00014: val_loss improved from 0.20606 to 0.19284, saving model to /gdrive/My Drive/Colab Notebooks/인공지능강의안/model/14-0.1928.hdf5\n",
            "\n",
            "Epoch 00015: val_loss improved from 0.19284 to 0.18726, saving model to /gdrive/My Drive/Colab Notebooks/인공지능강의안/model/15-0.1873.hdf5\n",
            "\n",
            "Epoch 00016: val_loss improved from 0.18726 to 0.17859, saving model to /gdrive/My Drive/Colab Notebooks/인공지능강의안/model/16-0.1786.hdf5\n",
            "\n",
            "Epoch 00017: val_loss did not improve from 0.17859\n",
            "\n",
            "Epoch 00018: val_loss did not improve from 0.17859\n",
            "\n",
            "Epoch 00019: val_loss did not improve from 0.17859\n",
            "\n",
            "Epoch 00020: val_loss did not improve from 0.17859\n",
            "\n",
            "Epoch 00021: val_loss improved from 0.17859 to 0.17372, saving model to /gdrive/My Drive/Colab Notebooks/인공지능강의안/model/21-0.1737.hdf5\n",
            "\n",
            "Epoch 00022: val_loss did not improve from 0.17372\n",
            "\n",
            "Epoch 00023: val_loss improved from 0.17372 to 0.16850, saving model to /gdrive/My Drive/Colab Notebooks/인공지능강의안/model/23-0.1685.hdf5\n",
            "\n",
            "Epoch 00024: val_loss did not improve from 0.16850\n",
            "\n",
            "Epoch 00025: val_loss did not improve from 0.16850\n",
            "\n",
            "Epoch 00026: val_loss improved from 0.16850 to 0.16211, saving model to /gdrive/My Drive/Colab Notebooks/인공지능강의안/model/26-0.1621.hdf5\n",
            "\n",
            "Epoch 00027: val_loss did not improve from 0.16211\n",
            "\n",
            "Epoch 00028: val_loss did not improve from 0.16211\n",
            "\n",
            "Epoch 00029: val_loss did not improve from 0.16211\n",
            "\n",
            "Epoch 00030: val_loss did not improve from 0.16211\n"
          ],
          "name": "stdout"
        }
      ]
    },
    {
      "cell_type": "code",
      "metadata": {
        "id": "432vvM5N_kG-",
        "colab_type": "code",
        "colab": {}
      },
      "source": [
        "model_best = load_model(\"/gdrive/My Drive/Colab Notebooks/인공지능강의안/model/19-0.1960.hdf5\")"
      ],
      "execution_count": null,
      "outputs": []
    },
    {
      "cell_type": "code",
      "metadata": {
        "id": "uGs7VTFh_kLD",
        "colab_type": "code",
        "colab": {
          "base_uri": "https://localhost:8080/",
          "height": 71
        },
        "outputId": "1ccf13cd-ccd1-4771-a1b1-ed61e2294a3d"
      },
      "source": [
        "print(\"\\n Accuracy : %.4f\" % (model_best.evaluate(X_test, Y_test)[1]))"
      ],
      "execution_count": null,
      "outputs": [
        {
          "output_type": "stream",
          "text": [
            "300/300 [==============================] - 1s 3ms/step\n",
            "\n",
            " Accuracy : 0.9433\n"
          ],
          "name": "stdout"
        }
      ]
    },
    {
      "cell_type": "code",
      "metadata": {
        "id": "arIkifED_qCE",
        "colab_type": "code",
        "colab": {
          "base_uri": "https://localhost:8080/",
          "height": 283
        },
        "outputId": "7b70dfb2-d32d-4d74-cff3-a547be4149de"
      },
      "source": [
        "y_vloss = history.history['val_loss']\n",
        "y_loss = history.history['loss']\n",
        "\n",
        "x_len = np.arange(len(y_loss))\n",
        "plt.plot(x_len, y_vloss, marker=\".\", c=\"red\", label=\"Testset loss\")\n",
        "plt.plot(x_len, y_loss, marker=\".\", c=\"blue\", label=\"Trainset loss\")\n",
        "\n",
        "plt.legend(loc=\"upper right\")\n",
        "plt.grid()\n",
        "plt.xlabel(\"epoch\")\n",
        "plt.ylabel(\"loss\")\n",
        "plt.show()"
      ],
      "execution_count": null,
      "outputs": [
        {
          "output_type": "display_data",
          "data": {
            "image/png": "[encoded data removed]",
            "text/plain": [
              "<Figure size 432x288 with 1 Axes>"
            ]
          },
          "metadata": {
            "tags": []
          }
        }
      ]
    },
    {
      "cell_type": "code",
      "metadata": {
        "id": "hCKYtXYCETkd",
        "colab_type": "code",
        "colab": {
          "base_uri": "https://localhost:8080/",
          "height": 287
        },
        "outputId": "a5700056-c8fa-4a87-92dc-24cd2d4ff5c8"
      },
      "source": [
        "n = 0\n",
        "plt.imshow(X_test[n].reshape(28, 28), cmap='Greys', interpolation='nearest')\n",
        "plt.show()\n",
        "\n",
        "print('The Answer is ', model.predict_classes(X_test[n].reshape((1, 28, 28, 1))))"
      ],
      "execution_count": null,
      "outputs": [
        {
          "output_type": "display_data",
          "data": {
            "image/png": "[encoded data removed]",
            "text/plain": [
              "<Figure size 432x288 with 1 Axes>"
            ]
          },
          "metadata": {
            "tags": []
          }
        },
        {
          "output_type": "stream",
          "text": [
            "The Answer is  [7]\n"
          ],
          "name": "stdout"
        }
      ]
    },
    {
      "cell_type": "markdown",
      "metadata": {
        "id": "nt7baUZ9F7C7",
        "colab_type": "text"
      },
      "source": [
        "## 잘못 예측된 사례 보기"
      ]
    },
    {
      "cell_type": "code",
      "metadata": {
        "id": "GWm1IsVTFmlO",
        "colab_type": "code",
        "colab": {
          "base_uri": "https://localhost:8080/",
          "height": 585
        },
        "outputId": "841effb5-eeaa-4754-e4fe-f2f3833b584b"
      },
      "source": [
        "import random\n",
        "\n",
        "predicted_result = model.predict(X_test)\n",
        "\n",
        "# 최대값에 해당하는 인덱스 반환\n",
        "predicted_labels = np.argmax(predicted_result, axis=1)\n",
        "\n",
        "test_labels = np.argmax(Y_test, axis=1)\n",
        "\n",
        "wrong_result = []\n",
        "\n",
        "for n in range(0, len(test_labels)):\n",
        "    # 예측결과와 원래 라벨 값이 다르다면\n",
        "    if predicted_labels[n] != test_labels[n]:\n",
        "        # 인덱스를 저장\n",
        "        wrong_result.append(n)\n",
        "\n",
        "# 틀린 예측 중에서 랜덤으로 16개를 선택\n",
        "samples = random.choices(population=wrong_result, k=16)\n",
        "\n",
        "count = 0\n",
        "nrows = ncols = 4\n",
        "\n",
        "plt.figure(figsize=(12,8))\n",
        "\n",
        "for n in samples:\n",
        "    count += 1\n",
        "    plt.subplot(nrows, ncols, count)\n",
        "    plt.imshow(X_test[n].reshape(28, 28), cmap='Greys', interpolation='nearest')\n",
        "    tmp = \"Label:\" + str(test_labels[n]) + \", Prediction:\" + str(predicted_labels[n])\n",
        "    plt.title(tmp)\n",
        "\n",
        "plt.tight_layout()\n",
        "plt.show()"
      ],
      "execution_count": null,
      "outputs": [
        {
          "output_type": "display_data",
          "data": {
            "image/png": "[encoded data removed]",
            "text/plain": [
              "<Figure size 864x576 with 16 Axes>"
            ]
          },
          "metadata": {
            "tags": []
          }
        }
      ]
    },
    {
      "cell_type": "code",
      "metadata": {
        "id": "DhBCrDefJoSt",
        "colab_type": "code",
        "colab": {}
      },
      "source": [
        ""
      ],
      "execution_count": null,
      "outputs": []
    }
  ]
}